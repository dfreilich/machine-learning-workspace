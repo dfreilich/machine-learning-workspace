{
 "cells": [
  {
   "cell_type": "markdown",
   "metadata": {},
   "source": [
    "# HW1 18739 Security and Fairness of Deep learning\n",
    "## Name:"
   ]
  },
  {
   "cell_type": "markdown",
   "metadata": {},
   "source": [
    "# 3 Before You Start"
   ]
  },
  {
   "cell_type": "markdown",
   "metadata": {},
   "source": [
    "##  3.2 Loading in the data "
   ]
  },
  {
   "cell_type": "code",
   "execution_count": null,
   "metadata": {},
   "outputs": [
    {
     "name": "stderr",
     "output_type": "stream",
     "text": [
      "Using TensorFlow backend.\n"
     ]
    }
   ],
   "source": [
    "#Note: You don't have to use the starter code\n",
    "import gzip\n",
    "import pickle as pkl\n",
    "from keras.models import Sequential\n",
    "from keras.layers import Dense, Activation\n",
    "from keras.utils import np_utils\n",
    "from keras import optimizers\n",
    "import time\n",
    "def load_data(path):\n",
    "    f = gzip.open(path, 'rb')\n",
    "    try:\n",
    "        #Python3\n",
    "        train_set, valid_set, test_set = pkl.load(f, encoding='latin1')\n",
    "    except:\n",
    "        #Python2\n",
    "        train_set, valid_set, test_set = pkl.load(f)\n",
    "    f.close()\n",
    "    return(train_set,valid_set,test_set)"
   ]
  },
  {
   "cell_type": "code",
   "execution_count": 9,
   "metadata": {},
   "outputs": [
    {
     "name": "stdout",
     "output_type": "stream",
     "text": [
      "(10000, 784)\n",
      "(50000, 10)\n",
      "(10000, 10)\n",
      "(10000, 10)\n"
     ]
    }
   ],
   "source": [
    "#Loading in the data\n",
    "path = 'mnist.pkl.gz' \n",
    "train_set,valid_set,test_set = load_data(path)\n",
    "print(test_set[0].shape)\n",
    "\n",
    "##preprocess the data\n",
    "y_train = np_utils.to_categorical(train_set[1], 10)\n",
    "y_val = np_utils.to_categorical(valid_set[1],10)\n",
    "y_test = np_utils.to_categorical(test_set[1],10)\n",
    "print(y_train.shape)\n",
    "print(y_val.shape)\n",
    "print(y_test.shape)"
   ]
  },
  {
   "cell_type": "markdown",
   "metadata": {},
   "source": [
    "# 4 Level 1: Keras Implementation"
   ]
  },
  {
   "cell_type": "code",
   "execution_count": 12,
   "metadata": {},
   "outputs": [
    {
     "name": "stdout",
     "output_type": "stream",
     "text": [
      "Train on 50000 samples, validate on 10000 samples\n",
      "Epoch 1/20\n",
      " - 1s - loss: 0.5777 - acc: 0.8525 - val_loss: 0.3654 - val_acc: 0.9018\n",
      "Epoch 2/20\n",
      " - 1s - loss: 0.3766 - acc: 0.8959 - val_loss: 0.3245 - val_acc: 0.9112\n",
      "Epoch 3/20\n",
      " - 1s - loss: 0.3449 - acc: 0.9032 - val_loss: 0.3084 - val_acc: 0.9134\n",
      "Epoch 4/20\n",
      " - 1s - loss: 0.3284 - acc: 0.9085 - val_loss: 0.2977 - val_acc: 0.9180\n",
      "Epoch 5/20\n",
      " - 1s - loss: 0.3176 - acc: 0.9107 - val_loss: 0.2933 - val_acc: 0.9178\n",
      "Epoch 6/20\n",
      " - 1s - loss: 0.3100 - acc: 0.9131 - val_loss: 0.2869 - val_acc: 0.9203\n",
      "Epoch 7/20\n",
      " - 1s - loss: 0.3044 - acc: 0.9151 - val_loss: 0.2832 - val_acc: 0.9201\n",
      "Epoch 8/20\n",
      " - 1s - loss: 0.2994 - acc: 0.9164 - val_loss: 0.2792 - val_acc: 0.9216\n",
      "Epoch 9/20\n",
      " - 1s - loss: 0.2956 - acc: 0.9176 - val_loss: 0.2771 - val_acc: 0.9217\n",
      "Epoch 10/20\n",
      " - 1s - loss: 0.2923 - acc: 0.9181 - val_loss: 0.2762 - val_acc: 0.9223\n",
      "Epoch 11/20\n",
      " - 1s - loss: 0.2896 - acc: 0.9196 - val_loss: 0.2745 - val_acc: 0.9220\n",
      "Epoch 12/20\n",
      " - 1s - loss: 0.2870 - acc: 0.9198 - val_loss: 0.2721 - val_acc: 0.9234\n",
      "Epoch 13/20\n",
      " - 1s - loss: 0.2849 - acc: 0.9206 - val_loss: 0.2712 - val_acc: 0.9235\n",
      "Epoch 14/20\n",
      " - 1s - loss: 0.2830 - acc: 0.9208 - val_loss: 0.2699 - val_acc: 0.9245\n",
      "Epoch 15/20\n",
      " - 1s - loss: 0.2812 - acc: 0.9211 - val_loss: 0.2692 - val_acc: 0.9243\n",
      "Epoch 16/20\n",
      " - 1s - loss: 0.2797 - acc: 0.9220 - val_loss: 0.2684 - val_acc: 0.9242\n",
      "Epoch 17/20\n",
      " - 1s - loss: 0.2780 - acc: 0.9226 - val_loss: 0.2687 - val_acc: 0.9243\n",
      "Epoch 18/20\n",
      " - 1s - loss: 0.2768 - acc: 0.9221 - val_loss: 0.2665 - val_acc: 0.9256\n",
      "Epoch 19/20\n",
      " - 1s - loss: 0.2756 - acc: 0.9232 - val_loss: 0.2651 - val_acc: 0.9256\n",
      "Epoch 20/20\n",
      " - 1s - loss: 0.2741 - acc: 0.9232 - val_loss: 0.2653 - val_acc: 0.9263\n",
      "10000/10000 [==============================] - 0s 9us/step\n",
      "[0.27401491284370422, 0.92320000290870663]\n",
      "Run Time for Training: 15.958046913146973\n",
      "Test accuracy: 0.923200002909\n"
     ]
    }
   ],
   "source": [
    "## Start your code here\n",
    "\n",
    "##Initialize Parameters\n",
    "batch = 100\n",
    "epochs = 20\n",
    "l_r = 0.1\n",
    "features = 784\n",
    "classes = 10\n",
    "\n",
    "##Initialize the model\n",
    "model = Sequential()\n",
    "\n",
    "##add a layer to the model, with a specified score/activation function\n",
    "model.add(Dense(10, activation='softmax', input_shape=(features,)))\n",
    "\n",
    "##Compile your model with the desired loss function, optimizer and metrics\n",
    "#make optimizer, to use learning rate\n",
    "sgd = optimizers.SGD(lr=l_r, decay=0.0, momentum=0.0, nesterov=False)\n",
    "model.compile(loss='categorical_crossentropy',optimizer=sgd,metrics=['accuracy'])\n",
    "\n",
    "##Fit your training data (You can also specify your validation data using the validation set here)\n",
    "start_time = time.time()\n",
    "model.fit(train_set[0], y_train, epochs=epochs, batch_size=batch, verbose=2, validation_data=(valid_set[0], y_val))\n",
    "end_time = time.time()\n",
    "\n",
    "# ##Predict on the test data and report the test accuracy(the percentage of images correctly predicted)\n",
    "loss_and_metrics = model.evaluate(test_set[0], y_test, batch_size=batch)\n",
    "print(loss_and_metrics)\n",
    "\n",
    "print('Run Time for Training:', end_time-start_time)\n",
    "print('Test accuracy:', loss_and_metrics[1])"
   ]
  },
  {
   "cell_type": "markdown",
   "metadata": {},
   "source": [
    "Result Report: \n",
    "- Parameters you chose(batch_size,learning rate,epoch): (batch_size=100, learning rate = 0.1, epoch = 20)\n",
    "- Test Accuracy: 0.921900003552\n",
    "- Run Time for Training: 17.713045120239258 seconds"
   ]
  },
  {
   "cell_type": "markdown",
   "metadata": {},
   "source": [
    "# 5 Level 2: Theano Implenmentation\n"
   ]
  },
  {
   "cell_type": "code",
   "execution_count": 13,
   "metadata": {},
   "outputs": [
    {
     "name": "stdout",
     "output_type": "stream",
     "text": [
      "Epoch:  1 Accuracy: 0.94982\n",
      "Epoch:  2 Accuracy: 0.96274\n",
      "Epoch:  3 Accuracy: 0.96758\n",
      "Epoch:  4 Accuracy: 0.97012\n",
      "Epoch:  5 Accuracy: 0.97174\n",
      "Epoch:  6 Accuracy: 0.9734\n",
      "Epoch:  7 Accuracy: 0.97446\n",
      "Epoch:  8 Accuracy: 0.97514\n",
      "Epoch:  9 Accuracy: 0.9759\n",
      "Epoch:  10 Accuracy: 0.97626\n",
      "Epoch:  11 Accuracy: 0.97666\n",
      "Epoch:  12 Accuracy: 0.97704\n",
      "Epoch:  13 Accuracy: 0.97744\n",
      "Epoch:  14 Accuracy: 0.97768\n",
      "Epoch:  15 Accuracy: 0.97808\n",
      "Epoch:  16 Accuracy: 0.97836\n",
      "Epoch:  17 Accuracy: 0.97868\n",
      "Epoch:  18 Accuracy: 0.97888\n",
      "Epoch:  19 Accuracy: 0.97916\n",
      "Epoch:  20 Accuracy: 0.97932\n",
      "Run Time for Training 2.2022199630737305\n",
      "Test accuracy: 0.97932\n"
     ]
    }
   ],
   "source": [
    "## Start your code here\n",
    "import numpy as np\n",
    "import theano\n",
    "import theano.tensor as T\n",
    "import time\n",
    "#Note: You don't have to use the starter code\n",
    "class LogisticRegression(object):\n",
    "    \"\"\"Multi-class Logistic Regression Class\n",
    "    \"\"\"\n",
    "\n",
    "    def __init__(self, input, n_input, n_output):\n",
    "        \"\"\" Initialize the parameters(W,b,p(Y|X)...) of the logistic regression\n",
    "        :X The training/testing set input\n",
    "        :m,n: dimension of training set X\n",
    "        \"\"\"\n",
    "        ## initialize the weights and bias term\n",
    "        self.W = theano.shared(\n",
    "            value=np.random.randn(n_input, n_output),\n",
    "            name='W',\n",
    "            borrow=True\n",
    "        )\n",
    "        self.b = theano.shared(\n",
    "            value=np.zeros(\n",
    "                (n_output,)),\n",
    "            name='b',\n",
    "            borrow=True\n",
    "        )\n",
    "        self.params = [self.W, self.b]\n",
    "        self.input = input\n",
    "        \n",
    "        ## initialize funcs\n",
    "        self.p_y = T.nnet.softmax(T.dot(self.input, self.W) + self.b)\n",
    "        self.pred = T.argmax(self.p_y, axis=1)\n",
    "        self.one_hot = T.extra_ops.to_one_hot(self.pred, n_output)\n",
    "\n",
    "    def score(self, y_true):\n",
    "        \"\"\"Return the mean of the negative log-likelihood of the prediction\n",
    "        of this model under a given target distribution.\n",
    "        :y The training set output (ground truth)\n",
    "         \n",
    "        \"\"\"\n",
    "        return T.mean(T.nnet.categorical_crossentropy(self.p_y, y_true))\n",
    "    \n",
    "    def test_accuracy(self, test_y):\n",
    "        \"\"\"Return the test accuracy \n",
    "        :test_y: the testing set output(ground truth)\n",
    "        \"\"\"\n",
    "        ## using self.one_hot, and not self.pred, bc test_y is going to be one_hot encoded as well\n",
    "        return T.mean(T.eq(self.one_hot, test_y))\n",
    "        pass\n",
    "\n",
    "def main():\n",
    "    ##Initialize symbolic variables;\n",
    "    #     np_x_train = np.array(train_set[0])    \n",
    "    x_train_t = theano.shared(np.asarray(train_set[0], dtype=theano.config.floatX))\n",
    "    y_train_t = theano.shared(np.asarray(y_train, dtype=theano.config.floatX))\n",
    "    x_test_t = theano.shared(np.asarray(test_set[0], dtype=theano.config.floatX))\n",
    "    y_test_t = theano.shared(np.asarray(y_test, dtype=theano.config.floatX))\n",
    "\n",
    "    #compute number of minibatches\n",
    "    n_train_batches = x_train_t.get_value(borrow=True).shape[0] // batch\n",
    "    n_test_batches = x_test_t.get_value(borrow=True).shape[0] // batch\n",
    "    index = T.lscalar()  # index to a [mini]batch\n",
    "    x = T.dmatrix('x')\n",
    "    y = T.dmatrix('y') ## should this be a matrix? We'll see\n",
    "    \n",
    "    ## Create Logistic Regression object and define cost function\n",
    "    LogReg = LogisticRegression(x, features, classes)\n",
    "    cost = LogReg.score(y)\n",
    "\n",
    "    ##Define gradients and update rules;\n",
    "    #this link suggested adding a sum to it: https://groups.google.com/forum/#!msg/theano-users/o1vzlmwVVG8/IjZlwt-GH2AJ\n",
    "    g_W = T.grad(cost=cost, wrt=LogReg.W)\n",
    "    g_b = T.grad(cost=cost, wrt=LogReg.b)\n",
    "    \n",
    "    ##Define your training functions;        \n",
    "    updates = [(LogReg.W, LogReg.W - l_r * g_W),\n",
    "               (LogReg.b, LogReg.b - l_r * g_b)]\n",
    "\n",
    "    train_model = theano.function(\n",
    "              inputs=[index],\n",
    "              outputs=cost,\n",
    "              updates = updates,\n",
    "              givens={\n",
    "                x: x_train_t[index * batch: (index + 1) * batch],\n",
    "                y: y_train_t[index * batch: (index + 1) * batch]\n",
    "            }\n",
    "    )\n",
    "    \n",
    "    test_accuracy = theano.function(\n",
    "        inputs=[index],\n",
    "        outputs=LogReg.test_accuracy(y),\n",
    "        givens={\n",
    "            x: x_test_t[index * batch: (index + 1) * batch],\n",
    "            y: y_test_t[index * batch: (index + 1) * batch]\n",
    "        }\n",
    "    )\n",
    "\n",
    "    ##Train your model\n",
    "    test_score = 0.\n",
    "    epoch = 0\n",
    "    start_time= time.time()\n",
    "    while (epoch < epochs):\n",
    "        epoch = epoch+1\n",
    "        for batch_index in range(n_train_batches):\n",
    "            avg_cost = train_model(batch_index)\n",
    "        test_losses = [test_accuracy(i)\n",
    "            for i in range(n_test_batches)]\n",
    "        test_score = np.mean(test_losses)\n",
    "        print('Epoch: ', epoch, 'Accuracy:', test_score)\n",
    "    end_time = time.time()\n",
    "    \n",
    "    ##Report your accuracy on the test set.\n",
    "    test_losses = [test_accuracy(i)\n",
    "                   for i in range(n_test_batches)]\n",
    "    test_score = np.mean(test_losses)\n",
    "\n",
    "    print('Run Time for Training', end_time-start_time)\n",
    "    print('Test accuracy:', test_score)\n",
    "    pass\n",
    "\n",
    "if __name__ == '__main__':\n",
    "    main()"
   ]
  },
  {
   "cell_type": "markdown",
   "metadata": {},
   "source": [
    "Result Report: \n",
    "- Parameters you chose(batch_size,learning rate,epoch): (batch_size=100, learning rate = 0.1, epoch = 20)\n",
    "- Test Accuracy: 0.9786\n",
    "- Run Time for Training: 2.1274356842041016"
   ]
  },
  {
   "cell_type": "markdown",
   "metadata": {},
   "source": [
    "# 6 Level 3: Numpy Implementation"
   ]
  },
  {
   "cell_type": "markdown",
   "metadata": {},
   "source": [
    "## 6.2.1 SGD "
   ]
  },
  {
   "cell_type": "code",
   "execution_count": 20,
   "metadata": {
    "collapsed": true
   },
   "outputs": [],
   "source": [
    "## Start your code here\n",
    "import numpy as np\n",
    "import time\n",
    "from matplotlib import pyplot as plt\n",
    "%matplotlib inline\n",
    "\n",
    "#Note: You don't have to use the starter code\n",
    "def softmax(o):\n",
    "    \"\"\"\n",
    "    Returns softmax(o) (dim:10 * n)\n",
    "    :o = WX + b,(dim: 10 * n)\n",
    "    \"\"\"\n",
    "    num = np.exp(o-np.max(o))\n",
    "    if num.ndim == 1:\n",
    "        return num / np.sum(num, axis=0)\n",
    "    else:  \n",
    "        return num / np.array([np.sum(num, axis=1)]).T  # ndim = 2\n",
    "\n",
    "def sgd(n_epoch,lr,W,X,y,batch_size=100):\n",
    "    \"\"\"\n",
    "    Returns output: optimal W,b Stochastic Gradient Descent\n",
    "    :n_epoch: Number of epochs\n",
    "    :lr: learning rate\n",
    "    :W: (dim: 10*785)\n",
    "    :X: (dim: n*784)\n",
    "    :y: (dim: 10*n)   \n",
    "    \"\"\"\n",
    "    X = np.c_[np.ones((X.shape[0])), X]\n",
    "    for epoch in range(n_epoch):\n",
    "#         epoch_loss = []\n",
    "        epoch_acc = []\n",
    "        #calculate batch\n",
    "        for (x_batch, y_batch) in next_batch(X,y,batch_size):\n",
    "            ##Compute predictions, softmax(WX_b)\n",
    "            y_prob = softmax(np.dot(x_batch, W.T))\n",
    "            \n",
    "            ##computes derivative of loss wrt W and b\n",
    "            d_y = (y_prob-y_batch)\n",
    "\n",
    "            ##updates weights based on derivative\n",
    "            W -= lr * ((np.dot(d_y.T, x_batch))/batch_size)\n",
    "            \n",
    "#             epoch_loss.append(cost(y_batch, y_prob))\n",
    "            epoch_acc.append(compute_acc(y_batch, y_prob))\n",
    "#         print('Epoch:', epoch+1, 'Average Accuracy:', np.mean(epoch_acc))\n",
    "    return W\n",
    "\n",
    "def one_hot_encode(seq, num_classes):\n",
    "    num_frames = len(seq)\n",
    "    m = np.zeros((num_frames, num_classes))\n",
    "    m[np.arange(num_frames), seq] = 1\n",
    "    return m\n",
    "\n",
    "def next_batch(X, y, batch_size):\n",
    "     ##loop over our dataset `X` in mini-batches of size `batchSize`\n",
    "    for i in np.arange(0, X.shape[0], batch_size):\n",
    "        ## yield a tuple of the current batched data and labels\n",
    "        yield (X[i:i + batch_size], y[i:i + batch_size])\n",
    "        \n",
    "def cross_entropy(y_true, y_pred):\n",
    "    ent = -np.sum(np.log(y_pred) * (y_true), axis=1)\n",
    "#     print('entropy', ent)\n",
    "    return ent\n",
    "\n",
    "def cost(y_true, y_pred):\n",
    "    c = np.mean(cross_entropy(y_true, y_pred))\n",
    "#     print('cost', c)\n",
    "    return c\n",
    "\n",
    "def compute_acc(y_true, y_prob):\n",
    "    y_pred = np.argmax(y_prob,axis=1)\n",
    "    #transform true labels back to number encoding, to allow more logical equality check\n",
    "    y_true_num = [np.where(r==1)[0][0] for r in y_true]\n",
    "    accuracy = np.sum(y_true_num == y_pred)/y_true.shape[0]\n",
    "    return accuracy * 100\n",
    "    \n",
    "def test_accuracy(X_test,y_test,W):\n",
    "    \"\"\"\n",
    "    Return the accuracy using W,b returned from sgd()\n",
    "    :X_test: (dim: n*785) test dataset input\n",
    "    :y_test: (dim: 10*n) test dataset output\n",
    "    \"\"\"\n",
    "    X_test = np.c_[np.ones((X_test.shape[0])), X_test]\n",
    "    prob = softmax(np.dot(X_test, W.T))\n",
    "    return compute_acc(y_test, prob)"
   ]
  },
  {
   "cell_type": "markdown",
   "metadata": {},
   "source": [
    "## 6.2.2 Parameter(Learning Rate) Tuning"
   ]
  },
  {
   "cell_type": "code",
   "execution_count": 21,
   "metadata": {},
   "outputs": [
    {
     "name": "stdout",
     "output_type": "stream",
     "text": [
      "Evaluating Learning Rate: 1e-10\n",
      "Learning Rate: 1e-10 Validation Accuracy: 13.67\n",
      "Evaluating Learning Rate: 1e-09\n",
      "Learning Rate: 1e-09 Validation Accuracy: 13.67\n",
      "Evaluating Learning Rate: 1e-08\n",
      "Learning Rate: 1e-08 Validation Accuracy: 13.67\n",
      "Evaluating Learning Rate: 1e-07\n",
      "Learning Rate: 1e-07 Validation Accuracy: 13.68\n",
      "Evaluating Learning Rate: 1e-06\n",
      "Learning Rate: 1e-06 Validation Accuracy: 13.72\n",
      "Evaluating Learning Rate: 1e-05\n",
      "Learning Rate: 1e-05 Validation Accuracy: 14.19\n",
      "Evaluating Learning Rate: 0.0001\n",
      "Learning Rate: 0.0001 Validation Accuracy: 19.82\n",
      "Evaluating Learning Rate: 0.001\n",
      "Learning Rate: 0.001 Validation Accuracy: 52.68\n",
      "Evaluating Learning Rate: 0.01\n",
      "Learning Rate: 0.01 Validation Accuracy: 82.55\n",
      "Evaluating Learning Rate: 0.1\n",
      "Learning Rate: 0.1 Validation Accuracy: 89.89\n",
      "Evaluating Learning Rate: 1.0\n",
      "Learning Rate: 1.0 Validation Accuracy: 91.85\n",
      "Evaluating Learning Rate: 10.0\n",
      "Learning Rate: 10.0 Validation Accuracy: 88.06\n",
      "Best Learning Rate: 1.0\n"
     ]
    },
    {
     "data": {
      "image/png": "[encoded data removed]",
      "text/plain": [
       "<matplotlib.figure.Figure at 0x117029550>"
      ]
     },
     "metadata": {},
     "output_type": "display_data"
    },
    {
     "name": "stdout",
     "output_type": "stream",
     "text": [
      "Test Accuracy: 90.9\n",
      "Run Time for Training: 5.516980886459351\n"
     ]
    }
   ],
   "source": [
    "## Start your code here\n",
    "#Note: You don't have to use the starter code\n",
    "def main():\n",
    "    ##Parameter(Learning Rate) Tuning\n",
    "    #Define Parameters and Variables\n",
    "    lrs = np.power(10,np.arange(-10,2),dtype=float)\n",
    "    W = np.random.randn(10,785)\n",
    "    all_valid_acc = []\n",
    "    best_acc = 0\n",
    "    best_lr = 0\n",
    "    best_lr_test = 0\n",
    "    run_time = 0\n",
    "    \n",
    "    for i in range(lrs.shape[0]):\n",
    "        print('Evaluating Learning Rate:', lrs[i])\n",
    "        start_time= time.time()\n",
    "        Weights = sgd(epochs, lrs[i], W, train_set[0], y_train, batch)\n",
    "        end_time = time.time()\n",
    "        valid_acc = test_accuracy(valid_set[0], y_val, Weights)\n",
    "        print('Learning Rate:', lrs[i], 'Validation Accuracy:', valid_acc)\n",
    "        all_valid_acc.append(valid_acc)\n",
    "        if(valid_acc > best_acc):\n",
    "            best_acc = valid_acc\n",
    "            best_lr_test = test_accuracy(test_set[0], y_test, Weights)\n",
    "            best_lr = lrs[i]\n",
    "            run_time = end_time-start_time   \n",
    "        \n",
    "    print('Best Learning Rate:', best_lr)\n",
    "    ##Plot learning rate against validation accuracy\n",
    "    fig = plt.figure()\n",
    "    fig.suptitle(\"Validation Accuracy over LR\")\n",
    "    plt.plot(lrs, all_valid_acc)\n",
    "    plt.xlabel('Learning Rate')\n",
    "    plt.ylabel('Validation Accuracy')\n",
    "    plt.show()\n",
    "    ##test accuracy and run time\n",
    "    print('Test Accuracy:', best_lr_test)\n",
    "    print('Run Time for Training:', run_time)\n",
    "    pass\n",
    "\n",
    "if __name__ == '__main__':\n",
    "    main()"
   ]
  },
  {
   "cell_type": "markdown",
   "metadata": {},
   "source": [
    "Result Report: \n",
    "- Parameters you chose(batch_size,learning rate,epoch): batch_size = 100, learning rate was a loop through an array, and epoch = 20\n",
    "- Best Learning Rate: 0.01\n",
    "- Test Accuracy: 91.23\n",
    "- Run Time for Training(Using the parameters you chose finally for testing): 4.558103084564209"
   ]
  },
  {
   "cell_type": "markdown",
   "metadata": {},
   "source": [
    "# 7 Comparison"
   ]
  },
  {
   "cell_type": "markdown",
   "metadata": {
    "collapsed": true
   },
   "source": [
    "Comparing the Accuracy and Run Times, we have:\n",
    "- Keras: Test Accuracy: 92.19%, Run Time: 17.71 seconds\n",
    "- Theano: Accuracy: 97.86%, Run Time: 2.13 seconds\n",
    "- Numpy: Accuracy: 91.23%, Run Time: 4.56 seconds\n",
    "\n",
    "With Keras, the winning factor (pro) is ease of implementation. It took relatively little time to look at the website, read a few tutorials, and implement it. On the other hand (con), it has a high run time, and it's test-accuracy wasn't as high as I would have hoped. A factor which is both a pro and con, is that you don't really need to understand what's happening at all, in terms of the model – you just add a layer, and trust Keras to do it for you, without appreciating the complexity of what's happening behind the scenes. That is a pro if you just want to implement it quickly, but a con in terms of understanding the depths of what you are doing. \n",
    "\n",
    "With Theano, the level of difficulty stepped up quite a bit, but its performance certainly was impressive. It was not intuitive to implement, even knowing the algorithm – figuring out how to use the symbolic references, and debugging/understanding errors wasn't trivial. On the other hand, it clearly outperformed Keras and Numpy, both in Run Time, and in accuracy. In Theano, you had to understand the algorithm a bit, and implement much of it – it just spared you from figuring out the gradients, and made it a bit higher level. That again is a pro and con, depending on what you are looking for – if you want to just implement it, then that's a con, but if you want to understand precisely what you're doing at what stage, it's mostly a pro (even though you aren't fully implementing the gradient updates). "
   ]
  }
 ],
 "metadata": {
  "kernelspec": {
   "display_name": "Python 3",
   "language": "python",
   "name": "python3"
  },
  "language_info": {
   "codemirror_mode": {
    "name": "ipython",
    "version": 3
   },
   "file_extension": ".py",
   "mimetype": "text/x-python",
   "name": "python",
   "nbconvert_exporter": "python",
   "pygments_lexer": "ipython3",
   "version": "3.6.3"
  }
 },
 "nbformat": 4,
 "nbformat_minor": 2
}
