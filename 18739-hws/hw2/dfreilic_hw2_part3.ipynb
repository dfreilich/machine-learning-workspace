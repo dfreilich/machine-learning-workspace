{
 "cells": [
  {
   "cell_type": "code",
   "execution_count": 6,
   "metadata": {
    "collapsed": true
   },
   "outputs": [],
   "source": [
    "import tensorflow as tf\n",
    "import numpy as np\n",
    "import math\n",
    "import time\n",
    "from matplotlib import pyplot as plt\n",
    "from hw2_utils import run_model, get_CIFAR10_data\n",
    "%matplotlib inline"
   ]
  },
  {
   "cell_type": "markdown",
   "metadata": {},
   "source": [
    "## Load Datasets"
   ]
  },
  {
   "cell_type": "code",
   "execution_count": 7,
   "metadata": {},
   "outputs": [
    {
     "name": "stdout",
     "output_type": "stream",
     "text": [
      "Train data shape:  (49000, 32, 32, 3)\n",
      "Train labels shape:  (49000,)\n",
      "Validation data shape:  (1000, 32, 32, 3)\n",
      "Validation labels shape:  (1000,)\n",
      "Test data shape:  (10000, 32, 32, 3)\n",
      "Test labels shape:  (10000,)\n"
     ]
    }
   ],
   "source": [
    "# Invoke the above function to get our data.\n",
    "X_train, y_train, X_val, y_val, X_test, y_test = get_CIFAR10_data()\n",
    "print('Train data shape: ', X_train.shape)\n",
    "print('Train labels shape: ', y_train.shape)\n",
    "print('Validation data shape: ', X_val.shape)\n",
    "print('Validation labels shape: ', y_val.shape)\n",
    "print('Test data shape: ', X_test.shape)\n",
    "print('Test labels shape: ', y_test.shape)"
   ]
  },
  {
   "cell_type": "markdown",
   "metadata": {},
   "source": [
    "## 5.2 Model1 (Simple Model) (CPU)\n",
    "\n",
    "### Some useful utilities\n",
    "\n",
    ". Remember that our image data is initially N x H x W x C, where:\n",
    "* N is the number of datapoints\n",
    "* H is the height of each image in pixels\n",
    "* W is the height of each image in pixels\n",
    "* C is the number of channels (usually 3: R, G, B)\n",
    "\n",
    "This is the right way to represent the data when we are doing something like a 2D convolution, which needs spatial understanding of where the pixels are relative to each other. When we input image data into fully connected affine layers, however, we want each data example to be represented by a single vector -- it's no longer useful to segregate the different channels, rows, and columns of the data."
   ]
  },
  {
   "cell_type": "markdown",
   "metadata": {},
   "source": [
    "### The example model itself\n",
    "\n",
    "The first step to training your own model is defining its architecture.\n",
    "\n",
    "Here's an example of a convolutional neural network defined in TensorFlow -- try to understand what each line is doing, remembering that each layer is composed upon the previous layer. We haven't trained anything yet - that'll come next - for now, we want you to understand how everything gets set up. \n",
    "\n",
    "In that example, you see 2D convolutional layers (Conv2d), ReLU activations, and fully-connected layers (Linear). You also see the Hinge loss function, and the Adam optimizer being used. \n",
    "\n",
    "Make sure you understand why the parameters of the Linear layer are 5408 and 10.\n",
    "\n",
    "### TensorFlow Details\n",
    "In TensorFlow, much like in our previous notebooks, we'll first specifically initialize our variables, and then our network model."
   ]
  },
  {
   "cell_type": "code",
   "execution_count": 8,
   "metadata": {
    "collapsed": true
   },
   "outputs": [],
   "source": [
    "# clear old variables\n",
    "tf.reset_default_graph()\n",
    "\n",
    "# setup input (e.g. the data that changes every batch)\n",
    "# The first dim is None, and gets sets automatically based on batch size fed in\n",
    "X = tf.placeholder(tf.float32, [None, 32, 32, 3])\n",
    "y = tf.placeholder(tf.int64, [None])\n",
    "is_training = tf.placeholder(tf.bool)\n",
    "\n",
    "def model1(X,y):\n",
    "    # define our weights (e.g. init_two_layer_convnet)\n",
    "    \n",
    "    # setup variables\n",
    "    Wconv1 = tf.get_variable(\"Wconv1\", shape=[7, 7, 3, 32])\n",
    "    bconv1 = tf.get_variable(\"bconv1\", shape=[32])\n",
    "    W1 = tf.get_variable(\"W1\", shape=[5408, 10])\n",
    "    b1 = tf.get_variable(\"b1\", shape=[10])\n",
    "\n",
    "    # define our graph (e.g. two_layer_convnet)\n",
    "    a1 = tf.nn.conv2d(X, Wconv1, strides=[1,2,2,1], padding='VALID') + bconv1\n",
    "    h1 = tf.nn.relu(a1)\n",
    "    h1_flat = tf.reshape(h1,[-1,5408])\n",
    "    y_out = tf.matmul(h1_flat,W1) + b1\n",
    "    return y_out\n",
    "\n",
    "y_out = model1(X,y)\n",
    "\n",
    "# define our loss\n",
    "total_loss = tf.losses.hinge_loss(tf.one_hot(y,10),logits=y_out)\n",
    "mean_loss = tf.reduce_mean(total_loss)\n",
    "\n",
    "# define our optimizer\n",
    "optimizer = tf.train.AdamOptimizer(5e-4) # select optimizer and set learning rate\n",
    "train_step = optimizer.minimize(mean_loss)"
   ]
  },
  {
   "cell_type": "markdown",
   "metadata": {},
   "source": [
    "TensorFlow supports many other layer types, loss functions, and optimizers - you will experiment with these next. Here's the official API documentation for these (if any of the parameters used above were unclear, this resource will also be helpful). \n",
    "\n",
    "* Layers, Activations, Loss functions : https://www.tensorflow.org/api_guides/python/nn\n",
    "* Optimizers: https://www.tensorflow.org/api_guides/python/train#Optimizers\n",
    "* BatchNorm: https://www.tensorflow.org/api_docs/python/tf/layers/batch_normalization"
   ]
  },
  {
   "cell_type": "markdown",
   "metadata": {},
   "source": [
    "### Training the model on one epoch\n",
    "While we have defined a graph of operations above, in order to execute TensorFlow Graphs, by feeding them input data and computing the results, we first need to create a `tf.Session` object. A session encapsulates the control and state of the TensorFlow runtime. For more information, see the TensorFlow [Getting started](https://www.tensorflow.org/get_started/get_started) guide.\n",
    "\n",
    "Optionally we can also specify a device context such as `/cpu:0` or `/gpu:0`. For documentation on this behavior see [this TensorFlow guide](https://www.tensorflow.org/tutorials/using_gpu)\n",
    "\n",
    "You should see a validation loss of around 0.4 to 0.6 and an accuracy of 0.30 to 0.4 below"
   ]
  },
  {
   "cell_type": "code",
   "execution_count": 9,
   "metadata": {},
   "outputs": [
    {
     "name": "stdout",
     "output_type": "stream",
     "text": [
      "Training\n",
      "Iteration 0: with minibatch training loss = 14.6 and accuracy of 0.094\n",
      "Iteration 100: with minibatch training loss = 0.996 and accuracy of 0.28\n",
      "Iteration 200: with minibatch training loss = 0.691 and accuracy of 0.42\n",
      "Iteration 300: with minibatch training loss = 0.787 and accuracy of 0.31\n",
      "Iteration 400: with minibatch training loss = 0.615 and accuracy of 0.33\n",
      "Iteration 500: with minibatch training loss = 0.566 and accuracy of 0.28\n",
      "Iteration 600: with minibatch training loss = 0.446 and accuracy of 0.33\n",
      "Iteration 700: with minibatch training loss = 0.504 and accuracy of 0.42\n",
      "Epoch 1, Overall loss = 0.784 and accuracy of 0.306\n"
     ]
    },
    {
     "data": {
      "image/png": "[encoded data removed]",
      "text/plain": [
       "<matplotlib.figure.Figure at 0x10e43b048>"
      ]
     },
     "metadata": {},
     "output_type": "display_data"
    },
    {
     "name": "stdout",
     "output_type": "stream",
     "text": [
      "Validation\n",
      "Epoch 1, Overall loss = 0.452 and accuracy of 0.375\n"
     ]
    }
   ],
   "source": [
    "with tf.Session() as sess:\n",
    "    with tf.device(\"/cpu:0\"): #\"/cpu:0\" or \"/gpu:0\" \n",
    "        sess.run(tf.global_variables_initializer())\n",
    "        print('Training')\n",
    "        run_model(sess,y_out,mean_loss,X,y,is_training,X_train,y_train,1,64,100,train_step,True)\n",
    "        print('Validation')\n",
    "        run_model(sess,y_out,mean_loss,X,y,is_training,X_val,y_val,1,64)"
   ]
  },
  {
   "cell_type": "markdown",
   "metadata": {},
   "source": [
    "## 5.3 Model 2 (Implement a specific model )"
   ]
  },
  {
   "cell_type": "markdown",
   "metadata": {},
   "source": [
    "Please complete function `model2()` in `hw2_part3_cpu.py`, Then run the following 2 cells to test your model"
   ]
  },
  {
   "cell_type": "code",
   "execution_count": 10,
   "metadata": {
    "collapsed": true
   },
   "outputs": [],
   "source": [
    "from hw2_part3_cpu import model2\n",
    "# clear old variables\n",
    "tf.reset_default_graph()\n",
    "\n",
    "# define our input (e.g. the data that changes every batch)\n",
    "# The first dim is None, and gets sets automatically based on batch size fed in\n",
    "X = tf.placeholder(tf.float32, [None, 32, 32, 3])\n",
    "y = tf.placeholder(tf.int64, [None])\n",
    "is_training = tf.placeholder(tf.bool)\n",
    "\n",
    "# define model\n",
    "y_out = model2(X,y,is_training)"
   ]
  },
  {
   "cell_type": "markdown",
   "metadata": {},
   "source": [
    "To make sure you're doing the right thing, use the following tool to check the dimensionality of your output (it should be 64 x 10, since our batches have size 64 and the output of the final affine layer should be 10, corresponding to our 10 classes):"
   ]
  },
  {
   "cell_type": "code",
   "execution_count": 11,
   "metadata": {},
   "outputs": [
    {
     "name": "stdout",
     "output_type": "stream",
     "text": [
      "(64, 10)\n",
      "True\n"
     ]
    }
   ],
   "source": [
    "# Now we're going to feed a random batch into the model \n",
    "# and make sure the output is the right size\n",
    "x = np.random.randn(64, 32, 32,3)\n",
    "with tf.Session() as sess:\n",
    "    with tf.device(\"/cpu:0\"): #\"/cpu:0\" or \"/gpu:0\"\n",
    "        tf.global_variables_initializer().run()\n",
    "        ans = sess.run(y_out,feed_dict={X:x,is_training:True})\n",
    "        print(ans.shape)\n",
    "        print(np.array_equal(ans.shape, np.array([64, 10])))"
   ]
  },
  {
   "cell_type": "markdown",
   "metadata": {},
   "source": [
    "You should see the following from the run above \n",
    "\n",
    "`(64, 10)`\n",
    "\n",
    "`True`"
   ]
  },
  {
   "cell_type": "markdown",
   "metadata": {},
   "source": [
    "## 5.4 GPU \n",
    "\n",
    "Starting from this section, you have to use the server. Copy your result of running `hw3_part3_gpu.py` here. "
   ]
  },
  {
   "cell_type": "code",
   "execution_count": null,
   "metadata": {
    "collapsed": true
   },
   "outputs": [],
   "source": [
    "Train data shape:  (49000, 32, 32, 3)\n",
    "Train labels shape:  (49000,)\n",
    "Validation data shape:  (1000, 32, 32, 3)\n",
    "Validation labels shape:  (1000,)\n",
    "Test data shape:  (10000, 32, 32, 3)\n",
    "Test labels shape:  (10000,)\n",
    "2018-03-21 00:10:38.601643: I tensorflow/core/platform/cpu_feature_guard.cc:137] Your CPU supports instructions that this TensorFlow binary was not compiled to use: SSE4.1 SSE4.2 AVX AVX2 FMA\n",
    "2018-03-21 00:10:39.046150: I tensorflow/core/common_runtime/gpu/gpu_device.cc:1030] Found device 0 with properties: \n",
    "name: Tesla P100-PCIE-16GB major: 6 minor: 0 memoryClockRate(GHz): 1.3285\n",
    "pciBusID: 0000:81:00.0\n",
    "totalMemory: 15.89GiB freeMemory: 15.60GiB\n",
    "2018-03-21 00:10:39.046220: I tensorflow/core/common_runtime/gpu/gpu_device.cc:1120] Creating TensorFlow device (/device:GPU:0) -> (device: 0, name: Tesla P100-PCIE-16GB, pci bus id: 0000:81:00.0, compute capability: 6.0)\n",
    "2018-03-21 00:10:41.540435: I tensorflow/core/common_runtime/gpu/gpu_device.cc:1120] Creating TensorFlow device (/device:GPU:0) -> (device: 0, name: Tesla P100-PCIE-16GB, pci bus id: 0000:81:00.0, compute capability: 6.0)\n",
    "Training\n",
    "Iteration 0: with minibatch training loss = 3.56 and accuracy of 0.094\n",
    "Iteration 100: with minibatch training loss = 2.09 and accuracy of 0.38\n",
    "Iteration 200: with minibatch training loss = 1.92 and accuracy of 0.34\n",
    "Iteration 300: with minibatch training loss = 2.13 and accuracy of 0.38\n",
    "Iteration 400: with minibatch training loss = 1.44 and accuracy of 0.55\n",
    "Iteration 500: with minibatch training loss = 1.16 and accuracy of 0.62\n",
    "Iteration 600: with minibatch training loss = 1.35 and accuracy of 0.48\n",
    "Iteration 700: with minibatch training loss = 1.7 and accuracy of 0.53\n",
    "Epoch 1, Overall loss = 1.74 and accuracy of 0.441\n",
    "Validation\n",
    "Epoch 1, Overall loss = 1.75 and accuracy of 0.486"
   ]
  },
  {
   "cell_type": "markdown",
   "metadata": {},
   "source": [
    "## 5.5 Train Your own Model"
   ]
  },
  {
   "cell_type": "markdown",
   "metadata": {},
   "source": [
    "Copy your best result of running `hw3_part3_mymodel.py` here. \n"
   ]
  },
  {
   "cell_type": "code",
   "execution_count": 2,
   "metadata": {},
   "outputs": [
    {
     "ename": "SyntaxError",
     "evalue": "invalid syntax (<ipython-input-2-b63105d9e5b0>, line 1)",
     "output_type": "error",
     "traceback": [
      "\u001b[0;36m  File \u001b[0;32m\"<ipython-input-2-b63105d9e5b0>\"\u001b[0;36m, line \u001b[0;32m1\u001b[0m\n\u001b[0;31m    (myenv) [dfreilic@gpu015 dfreilic]$ python hw2_part3_mymodel.py\u001b[0m\n\u001b[0m                                    ^\u001b[0m\n\u001b[0;31mSyntaxError\u001b[0m\u001b[0;31m:\u001b[0m invalid syntax\n"
     ]
    }
   ],
   "source": [
    "(myenv) [dfreilic@gpu015 dfreilic]$ python hw2_part3_mymodel.py \n",
    "Train data shape:  (49000, 32, 32, 3)\n",
    "Train labels shape:  (49000,)\n",
    "Validation data shape:  (1000, 32, 32, 3)\n",
    "Validation labels shape:  (1000,)\n",
    "Test data shape:  (10000, 32, 32, 3)\n",
    "Test labels shape:  (10000,)\n",
    "2018-03-22 13:15:39.753236: I tensorflow/core/platform/cpu_feature_guard.cc:137] Your CPU supports instructions that this TensorFlow binary was not compiled to use: SSE4.1 SSE4.2 AVX AVX2 FMA\n",
    "2018-03-22 13:15:40.177364: I tensorflow/core/common_runtime/gpu/gpu_device.cc:1030] Found device 0 with properties: \n",
    "name: Tesla K80 major: 3 minor: 7 memoryClockRate(GHz): 0.8235\n",
    "pciBusID: 0000:8a:00.0\n",
    "totalMemory: 11.17GiB freeMemory: 11.10GiB\n",
    "2018-03-22 13:15:40.177411: I tensorflow/core/common_runtime/gpu/gpu_device.cc:1120] Creating TensorFlow device (/device:GPU:0) -> (device: 0, name: Tesla K80, pci bus id: 0000:8a:00.0, compute capability: 3.7)\n",
    "2018-03-22 13:15:41.758993: I tensorflow/core/common_runtime/gpu/gpu_device.cc:1120] Creating TensorFlow device (/device:GPU:0) -> (device: 0, name: Tesla K80, pci bus id: 0000:8a:00.0, compute capability: 3.7)\n",
    "Training\n",
    "Iteration 0: with minibatch training loss = 4.29 and accuracy of 0.14\n",
    "Iteration 500: with minibatch training loss = 1.33 and accuracy of 0.53\n",
    "Epoch 1, Overall loss = 1.31 and accuracy of 0.53\n",
    "Iteration 1000: with minibatch training loss = 1.16 and accuracy of 0.62\n",
    "Iteration 1500: with minibatch training loss = 0.809 and accuracy of 0.75\n",
    "Epoch 2, Overall loss = 0.882 and accuracy of 0.69\n",
    "Iteration 2000: with minibatch training loss = 0.579 and accuracy of 0.78\n",
    "Epoch 3, Overall loss = 0.707 and accuracy of 0.753\n",
    "Iteration 2500: with minibatch training loss = 0.72 and accuracy of 0.75\n",
    "Iteration 3000: with minibatch training loss = 0.717 and accuracy of 0.78\n",
    "Epoch 4, Overall loss = 0.594 and accuracy of 0.794\n",
    "Iteration 3500: with minibatch training loss = 0.722 and accuracy of 0.73\n",
    "Epoch 5, Overall loss = 0.51 and accuracy of 0.82\n",
    "Iteration 4000: with minibatch training loss = 0.312 and accuracy of 0.92\n",
    "Iteration 4500: with minibatch training loss = 0.346 and accuracy of 0.86\n",
    "Epoch 6, Overall loss = 0.441 and accuracy of 0.846\n",
    "Iteration 5000: with minibatch training loss = 0.355 and accuracy of 0.86\n",
    "Epoch 7, Overall loss = 0.377 and accuracy of 0.869\n",
    "Iteration 5500: with minibatch training loss = 0.359 and accuracy of 0.89\n",
    "Iteration 6000: with minibatch training loss = 0.142 and accuracy of 0.97\n",
    "Epoch 8, Overall loss = 0.318 and accuracy of 0.888\n",
    "Iteration 6500: with minibatch training loss = 0.299 and accuracy of 0.88\n",
    "Epoch 9, Overall loss = 0.272 and accuracy of 0.904\n",
    "Iteration 7000: with minibatch training loss = 0.332 and accuracy of 0.89\n",
    "Iteration 7500: with minibatch training loss = 0.21 and accuracy of 0.92\n",
    "Epoch 10, Overall loss = 0.229 and accuracy of 0.919\n",
    "Iteration 8000: with minibatch training loss = 0.186 and accuracy of 0.94\n",
    "Epoch 11, Overall loss = 0.203 and accuracy of 0.929\n",
    "Iteration 8500: with minibatch training loss = 0.123 and accuracy of 0.97\n",
    "Iteration 9000: with minibatch training loss = 0.25 and accuracy of 0.92\n",
    "Epoch 12, Overall loss = 0.174 and accuracy of 0.94\n",
    "Iteration 9500: with minibatch training loss = 0.159 and accuracy of 0.92\n",
    "Epoch 13, Overall loss = 0.156 and accuracy of 0.946\n",
    "Iteration 10000: with minibatch training loss = 0.133 and accuracy of 0.94\n",
    "Iteration 10500: with minibatch training loss = 0.244 and accuracy of 0.92\n",
    "Epoch 14, Overall loss = 0.141 and accuracy of 0.951\n",
    "Iteration 11000: with minibatch training loss = 0.182 and accuracy of 0.94\n",
    "Epoch 15, Overall loss = 0.123 and accuracy of 0.957\n",
    "Validation\n",
    "Epoch 1, Overall loss = 1.08 and accuracy of 0.79\n",
    "Test\n",
    "Epoch 1, Overall loss = 1.16 and accuracy of 0.763"
   ]
  },
  {
   "cell_type": "markdown",
   "metadata": {},
   "source": [
    "### Report your work\n"
   ]
  },
  {
   "cell_type": "markdown",
   "metadata": {},
   "source": [
    "With an architecture of:\n",
    "    \n",
    "Layer 1: Conv2D (5x5x64)\n",
    "\n",
    "    Batch Norm\n",
    "    Max Pool (3x3, Stride of 2)   \n",
    "Layer 2: \n",
    "\n",
    "    Conv2D (5x5x64)\n",
    "    Batch Norm\n",
    "    Max Pool (3x3, Stride of 2)    \n",
    "Layer 3: \n",
    "\n",
    "    Conv2d (3x3x128)\n",
    "    Relu\n",
    "    Batch Norm (Empirical evidence showed that it raised accuracy if placed after Relu activation here, then before)   \n",
    "Layer 4: \n",
    "\n",
    "    Conv2d (3x3x128)\n",
    "    Relu (No Batch Norm here, empirical evidence showed that it lowered accuracy)   \n",
    "Layer 5: \n",
    "\n",
    "    Conv2d (3x3x128)\n",
    "    Relu\n",
    "    Batch Norm    \n",
    "    Max Pool (3x3, Stride of 2)    \n",
    "Layer 6: \n",
    "\n",
    "    Fully Connected (Output 384), Relu Activation\n",
    "Layer 7: \n",
    "\n",
    "    Fully Connected (Output 192), Relu Activation\n",
    "Out Layer: \n",
    "\n",
    "    Fully Connected (Output 10)\n",
    "\n",
    "Optimizer: AdamOptimizer(.001) (when I tried RMSPropOptimizer, the loss increased (by 0.66) and the accuracy dropped (by .077). Similarly, GradientDescentOptimizer, Adagrad, Adadelta and others performed worse for me than AdamOptimizer)\n",
    "\n",
    "Loss: Cross Entropy Loss\n",
    "\n",
    "Learning Rate: 0.001 – I tried adjusting it, and I found that this ended up having the best accuracy with m\n",
    "\n",
    "I got various results for *Validation*, based on how many epochs I ran it for:\n",
    "\n",
    "    6 Epochs: Overall loss = 0.852 and accuracy of 0.757\n",
    "    10 Epochs: Overall loss = 0.923 and accuracy of 0.765\n",
    "    30 Epochs: Overall loss = 1.22 and accuracy of 0.795\n",
    "    100 Epochs: Overall loss = 1.51 and accuracy of 0.831"
   ]
  },
  {
   "cell_type": "markdown",
   "metadata": {},
   "source": [
    "The architecuture was built, based off of a model on Github (https://github.com/exelban/tensorflow-cifar-10), with some adjustments. I used batch normalization, instead of the LRN they used. I played with the learning rate, as well as various elements of the networks, trying various sizes of conv layers (both kernel sizes, as well as number of kernels), adding and removing some max pools (including strides), and adding in some other regularization. In the end, I found that this had a fairly good result, with some variance. I typically ran it for 6 epochs to try it out, and then 30 if I wanted a fairly good test. I originally tried using the tensorflow basic model, though I found that it didn't have fantastic accuracy, and gradually built up until I found that this model worked fairly well. I spent a fair amount of time playing with some different optimizers as well, and AdamOptimizer had a fair advantage over the ones I tried. \n",
    "\n",
    "I found that the length of this architecture was pretty good, allowing the network to learn a lot from the images, and upped my accuracy by a fair percentage. At the same time, because we were dealing with CIFAR-10 images, a longer network didn't seem to work as well, because the original images were small enough that extending it didn't really help validation accuracy much. One thing that I hope to implement in the future is creating more images, by adapting some of the original cifar10 images, so that I can make a larger dataset, and see if I can train a more robust, larger network with that. "
   ]
  },
  {
   "cell_type": "markdown",
   "metadata": {},
   "source": [
    "### Report your Test Accuracy - Only do this once"
   ]
  },
  {
   "cell_type": "code",
   "execution_count": 4,
   "metadata": {},
   "outputs": [
    {
     "ename": "SyntaxError",
     "evalue": "invalid syntax (<ipython-input-4-6156a0791212>, line 1)",
     "output_type": "error",
     "traceback": [
      "\u001b[0;36m  File \u001b[0;32m\"<ipython-input-4-6156a0791212>\"\u001b[0;36m, line \u001b[0;32m1\u001b[0m\n\u001b[0;31m    Validation:\u001b[0m\n\u001b[0m               ^\u001b[0m\n\u001b[0;31mSyntaxError\u001b[0m\u001b[0;31m:\u001b[0m invalid syntax\n"
     ]
    }
   ],
   "source": [
    "Validation:\n",
    "    Epoch 1, Overall loss = 1.08 and accuracy of 0.79\n",
    "Test:\n",
    "    Epoch 1, Overall loss = 1.16 and accuracy of 0.763"
   ]
  },
  {
   "cell_type": "markdown",
   "metadata": {},
   "source": [
    "When I ran it for 15 epochs (with a shortage of XSEDE resources, I was running short on time), I got a validation accuracy of .79 and a test accuracy of 0.763. It was relatively similar, which was nice to see, though the test accuracy was still smaller than the validation accuracy, which makes sense. "
   ]
  }
 ],
 "metadata": {
  "kernelspec": {
   "display_name": "Python 3",
   "language": "python",
   "name": "python3"
  },
  "language_info": {
   "codemirror_mode": {
    "name": "ipython",
    "version": 3
   },
   "file_extension": ".py",
   "mimetype": "text/x-python",
   "name": "python",
   "nbconvert_exporter": "python",
   "pygments_lexer": "ipython3",
   "version": "3.6.3"
  }
 },
 "nbformat": 4,
 "nbformat_minor": 1
}
